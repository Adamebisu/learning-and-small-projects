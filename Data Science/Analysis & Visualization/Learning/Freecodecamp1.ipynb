{
 "cells": [
  {
   "cell_type": "code",
   "execution_count": 1,
   "metadata": {},
   "outputs": [],
   "source": [
    "import numpy as np"
   ]
  },
  {
   "cell_type": "code",
   "execution_count": 18,
   "metadata": {},
   "outputs": [],
   "source": [
    "def calculate(numbers):\n",
    "    \n",
    "    if len(numbers) < 9:\n",
    "        return ValueError('Must have 9 numbers')\n",
    "    \n",
    "    array = np.array(numbers)\n",
    "    #flat\n",
    "    avg_flat = np.average(array)\n",
    "    std_flat = np.std(array)\n",
    "    var_flat = np.var(array)\n",
    "    max_flat = np.max(array)\n",
    "    min_flat = np.min(array)\n",
    "    sum_flat = np.sum(array)\n",
    "    avg_flat_list = avg_flat.tolist()\n",
    "    std_flat_list = std_flat.tolist()\n",
    "    var_flat_list = var_flat.tolist()\n",
    "    max_flat_list = max_flat.tolist()\n",
    "    min_flat_list = min_flat.tolist()\n",
    "    sum_flat_list = sum_flat.tolist()\n",
    "    #avg\n",
    "    reshaped = array.reshape((3,3))\n",
    "    avg_axis1 = np.average(reshaped, axis=0)\n",
    "    avg1_list = avg_axis1.tolist()\n",
    "    avg_axis2 = np.average(reshaped, axis=1)\n",
    "    avg2_list = avg_axis2.tolist()\n",
    "    mean_list = [avg1_list, avg2_list, avg_flat_list]\n",
    "    #var\n",
    "    var_axis1 = np.var(reshaped, axis=0)\n",
    "    var1_list = var_axis1.tolist()\n",
    "    var_axis2 = np.var(reshaped, axis=1)\n",
    "    var2_list = var_axis2.tolist()\n",
    "    var_list = [var1_list, var2_list, var_flat_list]\n",
    "    #std\n",
    "    std_axis1 = np.std(reshaped, axis=0)\n",
    "    std1_list = std_axis1.tolist()\n",
    "    std_axis2 = np.std(reshaped, axis=1)\n",
    "    std2_list = std_axis2.tolist()\n",
    "    std_list = [std1_list, std2_list, std_flat_list]\n",
    "    #max\n",
    "    max_axis1 = np.max(reshaped, axis=0)\n",
    "    max1_list = max_axis1.tolist()\n",
    "    max_axis2 = np.max(reshaped, axis=1)\n",
    "    max2_list = max_axis2.tolist()\n",
    "    max_list = [max1_list, max2_list, max_flat_list]\n",
    "    #min\n",
    "    min_axis1 = np.min(reshaped, axis=0)\n",
    "    min1_list = min_axis1.tolist()\n",
    "    min_axis2 = np.min(reshaped, axis=1)\n",
    "    min2_list = min_axis2.tolist()\n",
    "    min_list = [min1_list, min2_list, min_flat_list]\n",
    "    #sum\n",
    "    sum_axis1 = np.sum(reshaped, axis=0)\n",
    "    sum1_list = sum_axis1.tolist()\n",
    "    sum_axis2 = np.sum(reshaped, axis=1)\n",
    "    sum2_list = sum_axis2.tolist()\n",
    "    sum_list = [sum1_list, sum2_list, sum_flat_list]\n",
    "    \n",
    "    dict = {'mean':mean_list,\n",
    "            'variance':var_list,\n",
    "            'standard deviation':std_list,\n",
    "            'max':max_list,\n",
    "            'min':min_list,\n",
    "            'sum':sum_list}\n",
    "    return dict"
   ]
  },
  {
   "cell_type": "code",
   "execution_count": 19,
   "metadata": {},
   "outputs": [
    {
     "data": {
      "text/plain": [
       "{'mean': [[3.0, 4.0, 5.0], [1.0, 4.0, 7.0], 4.0],\n",
       " 'variance': [[6.0, 6.0, 6.0],\n",
       "  [0.6666666666666666, 0.6666666666666666, 0.6666666666666666],\n",
       "  6.666666666666667],\n",
       " 'standard deviation': [[2.449489742783178,\n",
       "   2.449489742783178,\n",
       "   2.449489742783178],\n",
       "  [0.816496580927726, 0.816496580927726, 0.816496580927726],\n",
       "  2.581988897471611],\n",
       " 'max': [[6, 7, 8], [2, 5, 8], 8],\n",
       " 'min': [[0, 1, 2], [0, 3, 6], 0],\n",
       " 'sum': [[9, 12, 15], [3, 12, 21], 36]}"
      ]
     },
     "execution_count": 19,
     "metadata": {},
     "output_type": "execute_result"
    }
   ],
   "source": [
    "list = [0,1,2,3,4,5,6,7,8]\n",
    "\n",
    "calculate(list)"
   ]
  }
 ],
 "metadata": {
  "kernelspec": {
   "display_name": "base",
   "language": "python",
   "name": "python3"
  },
  "language_info": {
   "codemirror_mode": {
    "name": "ipython",
    "version": 3
   },
   "file_extension": ".py",
   "mimetype": "text/x-python",
   "name": "python",
   "nbconvert_exporter": "python",
   "pygments_lexer": "ipython3",
   "version": "3.10.9"
  }
 },
 "nbformat": 4,
 "nbformat_minor": 2
}
