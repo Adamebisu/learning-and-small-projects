{
 "cells": [
  {
   "cell_type": "code",
   "execution_count": 3,
   "metadata": {},
   "outputs": [
    {
     "ename": "ModuleNotFoundError",
     "evalue": "No module named 'translate'",
     "output_type": "error",
     "traceback": [
      "\u001b[1;31m---------------------------------------------------------------------------\u001b[0m",
      "\u001b[1;31mModuleNotFoundError\u001b[0m                       Traceback (most recent call last)",
      "\u001b[1;32mc:\\Users\\adem_\\OneDrive - boun.edu.tr\\Masaüstü\\Programs\\Code\\projects\\Data Science\\NLP\\translator.ipynb Cell 1\u001b[0m line \u001b[0;36m1\n\u001b[1;32m----> <a href='vscode-notebook-cell:/c%3A/Users/adem_/OneDrive%20-%20boun.edu.tr/Masa%C3%BCst%C3%BC/Programs/Code/projects/Data%20Science/NLP/translator.ipynb#W0sZmlsZQ%3D%3D?line=0'>1</a>\u001b[0m \u001b[39mfrom\u001b[39;00m \u001b[39mtranslate\u001b[39;00m \u001b[39mimport\u001b[39;00m Translator\n\u001b[0;32m      <a href='vscode-notebook-cell:/c%3A/Users/adem_/OneDrive%20-%20boun.edu.tr/Masa%C3%BCst%C3%BC/Programs/Code/projects/Data%20Science/NLP/translator.ipynb#W0sZmlsZQ%3D%3D?line=2'>3</a>\u001b[0m translator \u001b[39m=\u001b[39m Translator(to_lang\u001b[39m=\u001b[39m\u001b[39m\"\u001b[39m\u001b[39mtr\u001b[39m\u001b[39m\"\u001b[39m)\n\u001b[0;32m      <a href='vscode-notebook-cell:/c%3A/Users/adem_/OneDrive%20-%20boun.edu.tr/Masa%C3%BCst%C3%BC/Programs/Code/projects/Data%20Science/NLP/translator.ipynb#W0sZmlsZQ%3D%3D?line=3'>4</a>\u001b[0m translation \u001b[39m=\u001b[39m translator\u001b[39m.\u001b[39mtranslate(\u001b[39m'\u001b[39m\u001b[39mHello world!\u001b[39m\u001b[39m'\u001b[39m)\n",
      "\u001b[1;31mModuleNotFoundError\u001b[0m: No module named 'translate'"
     ]
    }
   ],
   "source": [
    "from translate import Translator\n",
    "\n",
    "translator = Translator(to_lang=\"tr\")\n",
    "translation = translator.translate('Hello world!')"
   ]
  }
 ],
 "metadata": {
  "kernelspec": {
   "display_name": "base",
   "language": "python",
   "name": "python3"
  },
  "language_info": {
   "codemirror_mode": {
    "name": "ipython",
    "version": 3
   },
   "file_extension": ".py",
   "mimetype": "text/x-python",
   "name": "python",
   "nbconvert_exporter": "python",
   "pygments_lexer": "ipython3",
   "version": "3.10.9"
  }
 },
 "nbformat": 4,
 "nbformat_minor": 2
}
